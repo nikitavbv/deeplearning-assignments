{
 "cells": [
  {
   "cell_type": "code",
   "execution_count": 6,
   "id": "1abb4562",
   "metadata": {},
   "outputs": [],
   "source": [
    ":dep tch = { version = \"0.13.0\", features = [\"download-libtorch\"] }\n",
    ":dep showata = { version = \"0.3.2\", features = [\"show_image\"] }\n",
    ":dep tempfile"
   ]
  },
  {
   "cell_type": "code",
   "execution_count": 5,
   "id": "82d7b7a2",
   "metadata": {},
   "outputs": [
    {
     "name": "stderr",
     "output_type": "stream",
     "text": [
      "While processing instruction `Ok(\"LOAD_AND_RUN /var/folders/k8/tc8kf6997r9gwl156j5b0g1h0000gn/T/.tmpgDuUh2/target/aarch64-apple-darwin/debug/deps/libcode_4.dylib run_user_code_2\")`, got error: Message(\"dlopen(/var/folders/k8/tc8kf6997r9gwl156j5b0g1h0000gn/T/.tmpgDuUh2/target/aarch64-apple-darwin/debug/deps/libcode_4.dylib, 0x0005): Symbol not found: __ZNK3c107SymBool10guard_boolEPKcx\\n  Referenced from: <03841B33-46D8-35AC-BFEF-15F94A84D393> /private/var/folders/k8/tc8kf6997r9gwl156j5b0g1h0000gn/T/.tmpgDuUh2/target/aarch64-apple-darwin/debug/deps/libcode_4.dylib\\n  Expected in:     <1E9FA061-EA31-3736-81D0-79A33B965097> /opt/homebrew/lib/python3.9/site-packages/torch/lib/libc10.dylib\")\n"
     ]
    },
    {
     "ename": "Error",
     "evalue": "Subprocess terminated with status: exit status: 99",
     "output_type": "error",
     "traceback": [
      "Subprocess terminated with status: exit status: 99"
     ]
    }
   ],
   "source": [
    "use tch::Tensor;\n",
    "use tch::vision::image;\n",
    "use showata::show_file_in_jupyter;\n",
    "use tempfile::tempdir;\n",
    "\n",
    "fn display_image(tensor: &Tensor) {\n",
    "    let dir = tempdir().unwrap();\n",
    "    let file_path = dir.path().join(\"./image.png\");\n",
    "\n",
    "    image::save(tensor, file_path.clone()).unwrap();\n",
    "    show_file_in_jupyter(file_path, \"image/png\", false).unwrap();\n",
    "}\n",
    "\n",
    "let img = image::load(\"./demo.jpg\").unwrap();\n",
    "display_image(&img);"
   ]
  },
  {
   "cell_type": "code",
   "execution_count": 7,
   "id": "84d2b5b5",
   "metadata": {},
   "outputs": [
    {
     "name": "stdout",
     "output_type": "stream",
     "text": [
      "hello world!\n"
     ]
    }
   ],
   "source": [
    "println!(\"hello world!\");"
   ]
  },
  {
   "cell_type": "code",
   "execution_count": null,
   "id": "7748d22a",
   "metadata": {},
   "outputs": [],
   "source": []
  }
 ],
 "metadata": {
  "kernelspec": {
   "display_name": "Rust",
   "language": "rust",
   "name": "rust"
  },
  "language_info": {
   "codemirror_mode": "rust",
   "file_extension": ".rs",
   "mimetype": "text/rust",
   "name": "Rust",
   "pygment_lexer": "rust",
   "version": ""
  }
 },
 "nbformat": 4,
 "nbformat_minor": 5
}
